{
 "cells": [
  {
   "cell_type": "markdown",
   "metadata": {},
   "source": [
    "# Utilitary functions"
   ]
  },
  {
   "cell_type": "markdown",
   "metadata": {},
   "source": [
    "Study useful functions for ml"
   ]
  },
  {
   "cell_type": "markdown",
   "metadata": {},
   "source": [
    "## Imports"
   ]
  },
  {
   "cell_type": "code",
   "execution_count": 1,
   "metadata": {},
   "outputs": [],
   "source": [
    "import numpy as np\n",
    "import matplotlib.pyplot as plt"
   ]
  },
  {
   "cell_type": "markdown",
   "metadata": {},
   "source": [
    "## Sigmoid function\n",
    "\n",
    "the sigmoid function bijects the real number line in the [-1,1] segment.\n",
    "\n",
    "It is usefull to compute probabilities from real scores"
   ]
  },
  {
   "cell_type": "code",
   "execution_count": 2,
   "metadata": {},
   "outputs": [
    {
     "data": {
      "text/plain": [
       "[<matplotlib.lines.Line2D at 0xb1025390>]"
      ]
     },
     "execution_count": 2,
     "metadata": {},
     "output_type": "execute_result"
    },
    {
     "data": {
      "image/png": "[encoded data removed]",
      "text/plain": [
       "<Figure size 432x288 with 1 Axes>"
      ]
     },
     "metadata": {
      "needs_background": "light"
     },
     "output_type": "display_data"
    }
   ],
   "source": [
    "def S(x):\n",
    "    return np.exp(x)/(1+np.exp(x))\n",
    "\n",
    "X = np.linspace(-5,5,100)\n",
    "Y = S(X)\n",
    "\n",
    "plt.plot(X,Y)"
   ]
  },
  {
   "cell_type": "markdown",
   "metadata": {},
   "source": [
    "It's derivative is a bell shaped curve, and it has a recursive expression"
   ]
  },
  {
   "cell_type": "code",
   "execution_count": 3,
   "metadata": {},
   "outputs": [
    {
     "data": {
      "text/plain": [
       "[<matplotlib.lines.Line2D at 0xb0dcc210>]"
      ]
     },
     "execution_count": 3,
     "metadata": {},
     "output_type": "execute_result"
    },
    {
     "data": {
      "image/png": "[encoded data removed]",
      "text/plain": [
       "<Figure size 432x288 with 1 Axes>"
      ]
     },
     "metadata": {
      "needs_background": "light"
     },
     "output_type": "display_data"
    }
   ],
   "source": [
    "dS2 = S(X)*(1-S(X))\n",
    "\n",
    "plt.plot(X,dS2)"
   ]
  },
  {
   "cell_type": "markdown",
   "metadata": {},
   "source": [
    "### Gradient descent\n",
    "\n",
    "The gradient descent is the workhorse of ML, it mainly allows to optimize convex functions, such as error functions, and can be implemented in many ways"
   ]
  },
  {
   "cell_type": "code",
   "execution_count": 4,
   "metadata": {},
   "outputs": [],
   "source": [
    "def grad(func,point,dh):\n",
    "    dim = point.size\n",
    "    gd = np.zeros((dim))\n",
    "    for i in range(dim):\n",
    "        dn = np.zeros((dim))\n",
    "        dn[i] = dh/2\n",
    "        gd[i] = (func(point+dn)-func(point-dn))/dh\n",
    "    return gd\n",
    "\n",
    "def gradStep(func,point,dh,step):\n",
    "    gd = grad(func,point,dh)\n",
    "    return point-step*gd\n"
   ]
  },
  {
   "cell_type": "code",
   "execution_count": 5,
   "metadata": {
    "scrolled": false
   },
   "outputs": [
    {
     "name": "stdout",
     "output_type": "stream",
     "text": [
      "[3 2] 13\n",
      "[2.4 1.6] 8.320000000004011\n",
      "[1.92 1.28] 5.324800000003957\n",
      "[1.536 1.024] 3.407871999998733\n",
      "[1.2288 0.8192] 2.1810380799960036\n",
      "[0.98304 0.65536] 1.3958643711968735\n",
      "[0.786432 0.524288] 0.8933531975662655\n",
      "[0.6291456 0.4194304] 0.5717460464424369\n",
      "[0.50331648 0.33554432] 0.3659174697231514\n",
      "[0.40265318 0.26843546] 0.23418718062286992\n",
      "[0.32212255 0.21474836] 0.14987979559865772\n"
     ]
    }
   ],
   "source": [
    "def f2(P):\n",
    "    return P[0]**2+P[1]**2\n",
    "\n",
    "P = np.array([3,2])\n",
    "print(P,f2(P))\n",
    "for i in range(10):\n",
    "    P = gradStep(f2,P,0.0001,0.1)\n",
    "    print(P,f2(P))"
   ]
  },
  {
   "cell_type": "markdown",
   "metadata": {},
   "source": [
    "Another less computationally intensive implementation is the stochastic gradient descent :"
   ]
  },
  {
   "cell_type": "code",
   "execution_count": 6,
   "metadata": {},
   "outputs": [],
   "source": [
    "def StochGradStep(func,point,dh,step,coord):\n",
    "    dn = np.zeros(point.shape)\n",
    "    dn[coord] = dh/2\n",
    "    df = (func(point+dn)-func(point-dn))/dh\n",
    "    newPoint = point.copy()\n",
    "    newPoint[coord] = point[coord]-step*df\n",
    "    return newPoint"
   ]
  },
  {
   "cell_type": "code",
   "execution_count": 7,
   "metadata": {
    "scrolled": false
   },
   "outputs": [
    {
     "name": "stdout",
     "output_type": "stream",
     "text": [
      "[3. 2.] 13.0\n",
      "[2.4 2. ] 9.760000000006713\n",
      "[2.4 1.6] 8.320000000009696\n",
      "[1.92 1.6 ] 6.2464000000099205\n",
      "[1.92 1.28] 5.324800000008504\n",
      "[1.536 1.28 ] 3.9976960000032085\n",
      "[1.536 1.024] 3.407872000002371\n",
      "[1.2288 1.024 ] 2.5585254399999777\n",
      "[1.2288 0.8192] 2.1810380799996416\n",
      "[0.98304 0.8192 ] 1.6374562815991691\n",
      "[0.98304 0.65536] 1.3958643711992018\n"
     ]
    }
   ],
   "source": [
    "P = np.array([3.0,2.0])\n",
    "print(P,f2(P))\n",
    "for i in range(10):\n",
    "    P = StochGradStep(f2,P,0.0001,0.1,i%2)\n",
    "    print(P,f2(P))"
   ]
  },
  {
   "cell_type": "markdown",
   "metadata": {},
   "source": [
    "these implementations are embeded in the optimize module :"
   ]
  },
  {
   "cell_type": "code",
   "execution_count": 15,
   "metadata": {},
   "outputs": [
    {
     "name": "stdout",
     "output_type": "stream",
     "text": [
      "[37, 35.53480000000087]\n",
      "[ 0.01517294 -0.00252882] 0.00023661296298129578\n"
     ]
    }
   ],
   "source": [
    "import optimize as opt\n",
    "\n",
    "startPoint = np.array([6,-1])\n",
    "gdOpt = opt.GradOptimizer(f2,startPoint)\n",
    "(Pf,Vf) = gdOpt.optimize(0.01,0.00001)\n",
    "print(Pf,Vf)"
   ]
  },
  {
   "cell_type": "code",
   "execution_count": 16,
   "metadata": {},
   "outputs": [
    {
     "data": {
      "text/plain": [
       "[<matplotlib.lines.Line2D at 0xb0b7d070>]"
      ]
     },
     "execution_count": 16,
     "metadata": {},
     "output_type": "execute_result"
    },
    {
     "data": {
      "image/png": "[encoded data removed]",
      "text/plain": [
       "<Figure size 432x288 with 1 Axes>"
      ]
     },
     "metadata": {
      "needs_background": "light"
     },
     "output_type": "display_data"
    }
   ],
   "source": [
    "x = [P[0] for P in gdOpt.getPoints()]\n",
    "y = [P[1] for P in gdOpt.getPoints()]\n",
    "\n",
    "plt.plot(x,y)"
   ]
  },
  {
   "cell_type": "code",
   "execution_count": 17,
   "metadata": {
    "scrolled": true
   },
   "outputs": [
    {
     "data": {
      "text/plain": [
       "[<matplotlib.lines.Line2D at 0xb0b2eff0>]"
      ]
     },
     "execution_count": 17,
     "metadata": {},
     "output_type": "execute_result"
    },
    {
     "data": {
      "image/png": "[encoded data removed]",
      "text/plain": [
       "<Figure size 432x288 with 1 Axes>"
      ]
     },
     "metadata": {
      "needs_background": "light"
     },
     "output_type": "display_data"
    }
   ],
   "source": [
    "i = range(len(gdOpt.getPoints()))\n",
    "V = gdOpt.getValues()\n",
    "\n",
    "plt.plot(i,V)"
   ]
  },
  {
   "cell_type": "code",
   "execution_count": null,
   "metadata": {},
   "outputs": [],
   "source": []
  }
 ],
 "metadata": {
  "kernelspec": {
   "display_name": "Python 3",
   "language": "python",
   "name": "python3"
  },
  "language_info": {
   "codemirror_mode": {
    "name": "ipython",
    "version": 3
   },
   "file_extension": ".py",
   "mimetype": "text/x-python",
   "name": "python",
   "nbconvert_exporter": "python",
   "pygments_lexer": "ipython3",
   "version": "3.7.3"
  }
 },
 "nbformat": 4,
 "nbformat_minor": 2
}
